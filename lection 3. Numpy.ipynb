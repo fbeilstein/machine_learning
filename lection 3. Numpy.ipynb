{
 "cells": [
  {
   "cell_type": "code",
   "execution_count": 2,
   "id": "2efc5ddc",
   "metadata": {},
   "outputs": [],
   "source": [
    "import numpy as np"
   ]
  },
  {
   "cell_type": "code",
   "execution_count": 32,
   "id": "e04771b3",
   "metadata": {},
   "outputs": [],
   "source": [
    "x = np.array([[\n",
    "    [[1,2,3,1],[1,4,5,6]],\n",
    "    [[1,7,8,9],[1,9,8,7]],\n",
    "    [[1,6,5,4],[1,3,2,1]],\n",
    "    [[1,6,5,4],[1,3,2,1]]\n",
    "],[\n",
    "    [[1,2,3,1],[1,4,5,6]],\n",
    "    [[1,7,8,9],[1,9,8,7]],\n",
    "    [[1,6,5,4],[1,3,2,1]],\n",
    "    [[1,6,5,4],[1,3,2,1]]\n",
    "]\n",
    "])"
   ]
  },
  {
   "cell_type": "code",
   "execution_count": 33,
   "id": "ad0b45de",
   "metadata": {},
   "outputs": [
    {
     "data": {
      "text/plain": [
       "(2, 4, 2, 4)"
      ]
     },
     "execution_count": 33,
     "metadata": {},
     "output_type": "execute_result"
    }
   ],
   "source": [
    "x.shape"
   ]
  },
  {
   "cell_type": "code",
   "execution_count": 37,
   "id": "17d3717a",
   "metadata": {},
   "outputs": [
    {
     "name": "stdout",
     "output_type": "stream",
     "text": [
      "4\n",
      "3\n"
     ]
    }
   ],
   "source": [
    "x = np.array([[\n",
    "    [[1,2,3,1],[1,4,5,6]],\n",
    "    [[1,7,8,9],[1,9,8,7]],\n",
    "    [[1,6,5,4],[1,3,2,1]],\n",
    "    [[1,6,5,4],[1,3,2,1]]\n",
    "],[\n",
    "    [[1,2,3,1],[1,4,5,6]],\n",
    "    [[1,7,8,9],[1,9,8,7]],\n",
    "    [[1,6,5,4],[1,3,2,1]],\n",
    "    [[1,6,5,4],[1,3,2,1]]\n",
    "]\n",
    "])\n",
    "print(x.ndim) #рівень вкладеності масиву\n",
    "\n",
    "x = np.array([\n",
    "    [[1,2,3,1],[1,4,5,6]],\n",
    "    [[1,7,8,9],[1,9,8,7]],\n",
    "    [[1,6,5,4],[1,3,2,1]],\n",
    "    [[1,6,5,4],[1,3,2,1]]\n",
    "])\n",
    "print(x.ndim) #рівень вкладеності масиву\n"
   ]
  },
  {
   "cell_type": "code",
   "execution_count": 38,
   "id": "2e0821e4",
   "metadata": {},
   "outputs": [
    {
     "data": {
      "text/plain": [
       "32"
      ]
     },
     "execution_count": 38,
     "metadata": {},
     "output_type": "execute_result"
    }
   ],
   "source": [
    "x = np.array([\n",
    "    [[1,2,3,1],[1,4,5,6]],\n",
    "    [[1,7,8,9],[1,9,8,7]],\n",
    "    [[1,6,5,4],[1,3,2,1]],\n",
    "    [[1,6,5,4],[1,3,2,1]]\n",
    "])\n",
    "x.size"
   ]
  },
  {
   "cell_type": "code",
   "execution_count": 41,
   "id": "2c8379fc",
   "metadata": {},
   "outputs": [
    {
     "data": {
      "text/plain": [
       "array([7, 8, 1, 5, 9, 8, 9, 4, 3, 0])"
      ]
     },
     "execution_count": 41,
     "metadata": {},
     "output_type": "execute_result"
    }
   ],
   "source": [
    "np.random.randint(10, size=10)"
   ]
  },
  {
   "cell_type": "code",
   "execution_count": 58,
   "id": "59574823",
   "metadata": {},
   "outputs": [],
   "source": [
    "x = np.array([\n",
    "    [5,0,3,3],\n",
    "    [7,9,3,5],\n",
    "    [2,4,7,6]\n",
    "])"
   ]
  },
  {
   "cell_type": "code",
   "execution_count": 59,
   "id": "6b046b35",
   "metadata": {},
   "outputs": [
    {
     "data": {
      "text/plain": [
       "array([[5, 0, 3, 3],\n",
       "       [7, 9, 3, 5],\n",
       "       [2, 4, 7, 6]])"
      ]
     },
     "execution_count": 59,
     "metadata": {},
     "output_type": "execute_result"
    }
   ],
   "source": [
    "x"
   ]
  },
  {
   "cell_type": "code",
   "execution_count": 72,
   "id": "afbc14b3",
   "metadata": {},
   "outputs": [
    {
     "data": {
      "text/plain": [
       "array([[5, 0, 3, 3],\n",
       "       [7, 9, 3, 5],\n",
       "       [2, 4, 7, 6]])"
      ]
     },
     "execution_count": 72,
     "metadata": {},
     "output_type": "execute_result"
    }
   ],
   "source": [
    "### Присвоєння масиву через уопію\n",
    "x = np.array([\n",
    "    [5,0,3,3],\n",
    "    [7,9,3,5],\n",
    "    [2,4,7,6]\n",
    "])\n",
    "\n",
    "x2_old = x.copy()\n",
    "x[0, 0] = 10000 #змінюємо перший елемент оригіналу\n",
    "x2_old"
   ]
  },
  {
   "cell_type": "code",
   "execution_count": 73,
   "id": "11f60488",
   "metadata": {},
   "outputs": [
    {
     "data": {
      "text/plain": [
       "array([[10000,     0,     3,     3],\n",
       "       [    7,     9,     3,     5],\n",
       "       [    2,     4,     7,     6]])"
      ]
     },
     "execution_count": 73,
     "metadata": {},
     "output_type": "execute_result"
    }
   ],
   "source": [
    "### Присвоєння масиву через зсилання\n",
    "x = np.array([\n",
    "    [5,0,3,3],\n",
    "    [7,9,3,5],\n",
    "    [2,4,7,6]\n",
    "])\n",
    "\n",
    "x2_old = x\n",
    "x[0, 0] = 10000 #змінюємо перший елемент оригіналу\n",
    "x2_old"
   ]
  },
  {
   "cell_type": "code",
   "execution_count": 103,
   "id": "04d1c9ed",
   "metadata": {},
   "outputs": [
    {
     "name": "stdout",
     "output_type": "stream",
     "text": [
      "45.0\n",
      "[10  9  8  7  6  5  4  3  2  1]\n",
      "[10  8  6  4  2]\n",
      "[6 5 4 3 2 1]\n"
     ]
    }
   ],
   "source": [
    "x = np.array([1,2,3,4,5,6,7,8,9,10]) \n",
    "a = 1\n",
    "b = 1\n",
    "for i in x[:2]:\n",
    "    a *=i\n",
    "for i in x[-2:]:\n",
    "    b *=i\n",
    "\n",
    "print(b/a)\n",
    "print(x[::-1]) #перевертає масив\n",
    "print(x[::-2]) #перевертає масив і виводить через 1\n",
    "print(x[5::-1]) #перевертає масив і виводить починаючи з 5 елементу\n"
   ]
  },
  {
   "cell_type": "code",
   "execution_count": null,
   "id": "11ed8696",
   "metadata": {},
   "outputs": [],
   "source": []
  }
 ],
 "metadata": {
  "kernelspec": {
   "display_name": "Python 3 (ipykernel)",
   "language": "python",
   "name": "python3"
  },
  "language_info": {
   "codemirror_mode": {
    "name": "ipython",
    "version": 3
   },
   "file_extension": ".py",
   "mimetype": "text/x-python",
   "name": "python",
   "nbconvert_exporter": "python",
   "pygments_lexer": "ipython3",
   "version": "3.11.5"
  }
 },
 "nbformat": 4,
 "nbformat_minor": 5
}
